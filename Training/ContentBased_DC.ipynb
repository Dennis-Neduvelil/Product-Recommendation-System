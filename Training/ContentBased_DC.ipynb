{
 "cells": [
  {
   "cell_type": "code",
   "execution_count": 3,
   "id": "2b0da25c",
   "metadata": {},
   "outputs": [],
   "source": [
    "import numpy as np\n",
    "import pandas as pd"
   ]
  },
  {
   "cell_type": "code",
   "execution_count": 4,
   "id": "2a9e9ae8",
   "metadata": {},
   "outputs": [],
   "source": [
    "product_info=pd.read_csv('data_combined.csv', index_col=False, dtype='unicode')"
   ]
  },
  {
   "cell_type": "code",
   "execution_count": 5,
   "id": "5bbc4027",
   "metadata": {},
   "outputs": [
    {
     "data": {
      "text/html": [
       "<div>\n",
       "<style scoped>\n",
       "    .dataframe tbody tr th:only-of-type {\n",
       "        vertical-align: middle;\n",
       "    }\n",
       "\n",
       "    .dataframe tbody tr th {\n",
       "        vertical-align: top;\n",
       "    }\n",
       "\n",
       "    .dataframe thead th {\n",
       "        text-align: right;\n",
       "    }\n",
       "</style>\n",
       "<table border=\"1\" class=\"dataframe\">\n",
       "  <thead>\n",
       "    <tr style=\"text-align: right;\">\n",
       "      <th></th>\n",
       "      <th>code</th>\n",
       "      <th>requestId</th>\n",
       "      <th>id</th>\n",
       "      <th>price</th>\n",
       "      <th>discountedPrice</th>\n",
       "      <th>styleType</th>\n",
       "      <th>productTypeId</th>\n",
       "      <th>articleNumber</th>\n",
       "      <th>visualTag</th>\n",
       "      <th>productDisplayName</th>\n",
       "      <th>...</th>\n",
       "      <th>otherFlags</th>\n",
       "      <th>articleDisplayAttr</th>\n",
       "      <th>productDescriptors</th>\n",
       "      <th>styleOptions</th>\n",
       "      <th>discountData</th>\n",
       "      <th>colours</th>\n",
       "      <th>productSpecificationEntry</th>\n",
       "      <th>associatedImageProducts</th>\n",
       "      <th>relatedStyleOptions</th>\n",
       "      <th>styleVideoAlbumList</th>\n",
       "    </tr>\n",
       "  </thead>\n",
       "  <tbody>\n",
       "    <tr>\n",
       "      <th>0</th>\n",
       "      <td>NaN</td>\n",
       "      <td>NaN</td>\n",
       "      <td>10000</td>\n",
       "      <td>649</td>\n",
       "      <td>324</td>\n",
       "      <td>DEL</td>\n",
       "      <td>304</td>\n",
       "      <td>132197135028 1303</td>\n",
       "      <td>NaN</td>\n",
       "      <td>Palm Tree Girls Sp Jace Sko White Skirts</td>\n",
       "      <td>...</td>\n",
       "      <td>[{'dataType': 'BOOLEAN', 'name': 'isFragile', ...</td>\n",
       "      <td>{'id': 74, 'core': {'order': '0', 'display': '...</td>\n",
       "      <td>{'description': {'descriptorType': 'descriptio...</td>\n",
       "      <td>[{'id': 39001, 'name': 'Size', 'value': '2YRS'...</td>\n",
       "      <td>{'discountType': 1, 'discountAmount': 325, 'di...</td>\n",
       "      <td>NaN</td>\n",
       "      <td>NaN</td>\n",
       "      <td>NaN</td>\n",
       "      <td>NaN</td>\n",
       "      <td>NaN</td>\n",
       "    </tr>\n",
       "    <tr>\n",
       "      <th>1</th>\n",
       "      <td>NaN</td>\n",
       "      <td>NaN</td>\n",
       "      <td>10001</td>\n",
       "      <td>549</td>\n",
       "      <td>274</td>\n",
       "      <td>DEL</td>\n",
       "      <td>304</td>\n",
       "      <td>132215584945 6300</td>\n",
       "      <td>NaN</td>\n",
       "      <td>Palm Tree Kids Girls Sp Jema Skt Blue Skirts</td>\n",
       "      <td>...</td>\n",
       "      <td>[{'dataType': 'BOOLEAN', 'name': 'isFragile', ...</td>\n",
       "      <td>{'id': 74, 'core': {'order': '0', 'display': '...</td>\n",
       "      <td>{'description': {'descriptorType': 'descriptio...</td>\n",
       "      <td>[{'id': 39005, 'name': 'Size', 'value': '2YRS'...</td>\n",
       "      <td>{'discountType': 1, 'discountAmount': 275, 'di...</td>\n",
       "      <td>NaN</td>\n",
       "      <td>NaN</td>\n",
       "      <td>NaN</td>\n",
       "      <td>NaN</td>\n",
       "      <td>NaN</td>\n",
       "    </tr>\n",
       "    <tr>\n",
       "      <th>2</th>\n",
       "      <td>NaN</td>\n",
       "      <td>NaN</td>\n",
       "      <td>10002</td>\n",
       "      <td>549</td>\n",
       "      <td>274</td>\n",
       "      <td>DEL</td>\n",
       "      <td>304</td>\n",
       "      <td>132215584945 8300</td>\n",
       "      <td>NaN</td>\n",
       "      <td>Palm Tree Kids Sp Jema Skt Blue Skirts</td>\n",
       "      <td>...</td>\n",
       "      <td>[{'dataType': 'BOOLEAN', 'name': 'isFragile', ...</td>\n",
       "      <td>{'id': 74, 'core': {'order': '0', 'display': '...</td>\n",
       "      <td>{'description': {'descriptorType': 'descriptio...</td>\n",
       "      <td>[{'id': 39009, 'name': 'Size', 'value': '2YRS'...</td>\n",
       "      <td>{'discountType': 1, 'discountAmount': 275, 'di...</td>\n",
       "      <td>NaN</td>\n",
       "      <td>NaN</td>\n",
       "      <td>NaN</td>\n",
       "      <td>NaN</td>\n",
       "      <td>NaN</td>\n",
       "    </tr>\n",
       "    <tr>\n",
       "      <th>3</th>\n",
       "      <td>NaN</td>\n",
       "      <td>NaN</td>\n",
       "      <td>10003</td>\n",
       "      <td>2695</td>\n",
       "      <td>2695</td>\n",
       "      <td>P</td>\n",
       "      <td>289</td>\n",
       "      <td>376668-100</td>\n",
       "      <td>NaN</td>\n",
       "      <td>Nike Women As Nike Eleme White T-Shirt</td>\n",
       "      <td>...</td>\n",
       "      <td>[{'dataType': 'BOOLEAN', 'name': 'isFragile', ...</td>\n",
       "      <td>{'id': 90, 'core': {'order': '0', 'display': '...</td>\n",
       "      <td>{'description': {'descriptorType': 'descriptio...</td>\n",
       "      <td>[{'id': 39010, 'name': 'Size', 'value': 'S', '...</td>\n",
       "      <td>NaN</td>\n",
       "      <td>NaN</td>\n",
       "      <td>NaN</td>\n",
       "      <td>NaN</td>\n",
       "      <td>NaN</td>\n",
       "      <td>NaN</td>\n",
       "    </tr>\n",
       "    <tr>\n",
       "      <th>4</th>\n",
       "      <td>NaN</td>\n",
       "      <td>NaN</td>\n",
       "      <td>10004</td>\n",
       "      <td>1995</td>\n",
       "      <td>1995</td>\n",
       "      <td>P</td>\n",
       "      <td>303</td>\n",
       "      <td>393799-064</td>\n",
       "      <td>NaN</td>\n",
       "      <td>Nike Men As 7 Sw Temp Grey Shorts</td>\n",
       "      <td>...</td>\n",
       "      <td>[{'dataType': 'BOOLEAN', 'name': 'isFragile', ...</td>\n",
       "      <td>{'id': 72, 'core': {'order': '0', 'display': '...</td>\n",
       "      <td>{'description': {'descriptorType': 'descriptio...</td>\n",
       "      <td>[{'id': 39014, 'name': 'Size', 'value': 'S', '...</td>\n",
       "      <td>NaN</td>\n",
       "      <td>{'colors': {'22589': {'dre_landing_page_url': ...</td>\n",
       "      <td>NaN</td>\n",
       "      <td>NaN</td>\n",
       "      <td>NaN</td>\n",
       "      <td>NaN</td>\n",
       "    </tr>\n",
       "  </tbody>\n",
       "</table>\n",
       "<p>5 rows × 49 columns</p>\n",
       "</div>"
      ],
      "text/plain": [
       "  code requestId     id price discountedPrice styleType productTypeId  \\\n",
       "0  NaN       NaN  10000   649             324       DEL           304   \n",
       "1  NaN       NaN  10001   549             274       DEL           304   \n",
       "2  NaN       NaN  10002   549             274       DEL           304   \n",
       "3  NaN       NaN  10003  2695            2695         P           289   \n",
       "4  NaN       NaN  10004  1995            1995         P           303   \n",
       "\n",
       "       articleNumber visualTag                            productDisplayName  \\\n",
       "0  132197135028 1303       NaN      Palm Tree Girls Sp Jace Sko White Skirts   \n",
       "1  132215584945 6300       NaN  Palm Tree Kids Girls Sp Jema Skt Blue Skirts   \n",
       "2  132215584945 8300       NaN        Palm Tree Kids Sp Jema Skt Blue Skirts   \n",
       "3         376668-100       NaN        Nike Women As Nike Eleme White T-Shirt   \n",
       "4         393799-064       NaN             Nike Men As 7 Sw Temp Grey Shorts   \n",
       "\n",
       "   ...                                         otherFlags  \\\n",
       "0  ...  [{'dataType': 'BOOLEAN', 'name': 'isFragile', ...   \n",
       "1  ...  [{'dataType': 'BOOLEAN', 'name': 'isFragile', ...   \n",
       "2  ...  [{'dataType': 'BOOLEAN', 'name': 'isFragile', ...   \n",
       "3  ...  [{'dataType': 'BOOLEAN', 'name': 'isFragile', ...   \n",
       "4  ...  [{'dataType': 'BOOLEAN', 'name': 'isFragile', ...   \n",
       "\n",
       "                                  articleDisplayAttr  \\\n",
       "0  {'id': 74, 'core': {'order': '0', 'display': '...   \n",
       "1  {'id': 74, 'core': {'order': '0', 'display': '...   \n",
       "2  {'id': 74, 'core': {'order': '0', 'display': '...   \n",
       "3  {'id': 90, 'core': {'order': '0', 'display': '...   \n",
       "4  {'id': 72, 'core': {'order': '0', 'display': '...   \n",
       "\n",
       "                                  productDescriptors  \\\n",
       "0  {'description': {'descriptorType': 'descriptio...   \n",
       "1  {'description': {'descriptorType': 'descriptio...   \n",
       "2  {'description': {'descriptorType': 'descriptio...   \n",
       "3  {'description': {'descriptorType': 'descriptio...   \n",
       "4  {'description': {'descriptorType': 'descriptio...   \n",
       "\n",
       "                                        styleOptions  \\\n",
       "0  [{'id': 39001, 'name': 'Size', 'value': '2YRS'...   \n",
       "1  [{'id': 39005, 'name': 'Size', 'value': '2YRS'...   \n",
       "2  [{'id': 39009, 'name': 'Size', 'value': '2YRS'...   \n",
       "3  [{'id': 39010, 'name': 'Size', 'value': 'S', '...   \n",
       "4  [{'id': 39014, 'name': 'Size', 'value': 'S', '...   \n",
       "\n",
       "                                        discountData  \\\n",
       "0  {'discountType': 1, 'discountAmount': 325, 'di...   \n",
       "1  {'discountType': 1, 'discountAmount': 275, 'di...   \n",
       "2  {'discountType': 1, 'discountAmount': 275, 'di...   \n",
       "3                                                NaN   \n",
       "4                                                NaN   \n",
       "\n",
       "                                             colours  \\\n",
       "0                                                NaN   \n",
       "1                                                NaN   \n",
       "2                                                NaN   \n",
       "3                                                NaN   \n",
       "4  {'colors': {'22589': {'dre_landing_page_url': ...   \n",
       "\n",
       "  productSpecificationEntry associatedImageProducts relatedStyleOptions  \\\n",
       "0                       NaN                     NaN                 NaN   \n",
       "1                       NaN                     NaN                 NaN   \n",
       "2                       NaN                     NaN                 NaN   \n",
       "3                       NaN                     NaN                 NaN   \n",
       "4                       NaN                     NaN                 NaN   \n",
       "\n",
       "  styleVideoAlbumList  \n",
       "0                 NaN  \n",
       "1                 NaN  \n",
       "2                 NaN  \n",
       "3                 NaN  \n",
       "4                 NaN  \n",
       "\n",
       "[5 rows x 49 columns]"
      ]
     },
     "execution_count": 5,
     "metadata": {},
     "output_type": "execute_result"
    }
   ],
   "source": [
    "product_info.head()"
   ]
  },
  {
   "cell_type": "code",
   "execution_count": 6,
   "id": "d8253eb6",
   "metadata": {},
   "outputs": [
    {
     "data": {
      "text/plain": [
       "(44446, 49)"
      ]
     },
     "execution_count": 6,
     "metadata": {},
     "output_type": "execute_result"
    }
   ],
   "source": [
    "product_info.shape"
   ]
  },
  {
   "cell_type": "code",
   "execution_count": 7,
   "id": "25c6d260",
   "metadata": {},
   "outputs": [
    {
     "name": "stdout",
     "output_type": "stream",
     "text": [
      "code\n",
      "requestId\n",
      "id\n",
      "price\n",
      "discountedPrice\n",
      "styleType\n",
      "productTypeId\n",
      "articleNumber\n",
      "visualTag\n",
      "productDisplayName\n",
      "variantName\n",
      "myntraRating\n",
      "catalogAddDate\n",
      "brandName\n",
      "ageGroup\n",
      "gender\n",
      "baseColour\n",
      "colour1\n",
      "colour2\n",
      "fashionType\n",
      "season\n",
      "year\n",
      "usage\n",
      "vat\n",
      "displayCategories\n",
      "weight\n",
      "navigationId\n",
      "landingPageUrl\n",
      "articleAttributes\n",
      "crossLinks\n",
      "brandUserProfile\n",
      "codEnabled\n",
      "styleImages\n",
      "lookGoodAlbum\n",
      "style360Images\n",
      "masterCategory\n",
      "subCategory\n",
      "articleType\n",
      "isEMIEnabled\n",
      "otherFlags\n",
      "articleDisplayAttr\n",
      "productDescriptors\n",
      "styleOptions\n",
      "discountData\n",
      "colours\n",
      "productSpecificationEntry\n",
      "associatedImageProducts\n",
      "relatedStyleOptions\n",
      "styleVideoAlbumList\n"
     ]
    }
   ],
   "source": [
    "for col in product_info.columns:\n",
    "    print(col)"
   ]
  },
  {
   "cell_type": "markdown",
   "id": "698bd6e2",
   "metadata": {},
   "source": [
    "### Selected Features\n",
    "\n",
    "* id\n",
    "* productDisplayName\n",
    "* variantName\n",
    "* ageGroup\n",
    "* gender\n",
    "* baseColour\n",
    "* displayCategories\n",
    "* productDescriptors\n",
    "    * description\n",
    "        * value\n"
   ]
  },
  {
   "cell_type": "code",
   "execution_count": 8,
   "id": "5caf760e",
   "metadata": {},
   "outputs": [],
   "source": [
    "product_info=product_info[['id','productDisplayName','variantName','ageGroup','gender','baseColour','displayCategories','productDescriptors']]"
   ]
  },
  {
   "cell_type": "code",
   "execution_count": 9,
   "id": "7215f307",
   "metadata": {},
   "outputs": [
    {
     "data": {
      "text/plain": [
       "<bound method DataFrame.info of           id                             productDisplayName    variantName  \\\n",
       "0      10000       Palm Tree Girls Sp Jace Sko White Skirts    SP JACE SKO   \n",
       "1      10001   Palm Tree Kids Girls Sp Jema Skt Blue Skirts    SP JEMA SKT   \n",
       "2      10002         Palm Tree Kids Sp Jema Skt Blue Skirts    SP JEMA SKT   \n",
       "3      10003         Nike Women As Nike Eleme White T-Shirt  AS NIKE ELEME   \n",
       "4      10004              Nike Men As 7 Sw Temp Grey Shorts   AS 7 SW TEMP   \n",
       "...      ...                                            ...            ...   \n",
       "44441   9995  Gini And Jony Girls Su Scotia Sko Pink Skirts  SU SCOTIA SKO   \n",
       "44442   9996         Palm Tree Girls Sp Jelly Top Blue Tops   SP JELLY TOP   \n",
       "44443   9997         Palm Tree Girls Hs Livia Top Blue Tops   HS LIVIA TOP   \n",
       "44444   9998         Palm Tree Girls Hs Livia Top Pink Tops   HS LIVIA TOP   \n",
       "44445   9999    Palm Tree Kids Girl Mm Merlin Top Blue Tops  MM MERLIN TOP   \n",
       "\n",
       "           ageGroup gender baseColour  \\\n",
       "0        Kids-Girls  Women      White   \n",
       "1        Kids-Girls  Women       Blue   \n",
       "2        Kids-Girls  Women       Blue   \n",
       "3      Adults-Women  Women      White   \n",
       "4        Adults-Men    Men       Grey   \n",
       "...             ...    ...        ...   \n",
       "44441    Kids-Girls  Women       Pink   \n",
       "44442    Kids-Girls  Women       Blue   \n",
       "44443    Kids-Girls  Women       Blue   \n",
       "44444    Kids-Girls  Women       Pink   \n",
       "44445    Kids-Girls  Women       Blue   \n",
       "\n",
       "                                       displayCategories  \\\n",
       "0      Bottomwear,Casual Wear and Clearance,Casual We...   \n",
       "1      Bottomwear,Casual Wear and Clearance,Casual We...   \n",
       "2      Bottomwear,Casual Wear and Clearance,Casual We...   \n",
       "3                                    Tshirts,Sports Wear   \n",
       "4                                            Sports Wear   \n",
       "...                                                  ...   \n",
       "44441  Bottomwear,Casual Wear and Clearance,Sale and ...   \n",
       "44442  Casual Wear and Clearance,Sale and Clearance,C...   \n",
       "44443  Casual Wear and Clearance,Sale and Clearance,C...   \n",
       "44444  Casual Wear and Clearance,Sale and Clearance,C...   \n",
       "44445                                   Casual Wear,Sale   \n",
       "\n",
       "                                      productDescriptors  \n",
       "0      {'description': {'descriptorType': 'descriptio...  \n",
       "1      {'description': {'descriptorType': 'descriptio...  \n",
       "2      {'description': {'descriptorType': 'descriptio...  \n",
       "3      {'description': {'descriptorType': 'descriptio...  \n",
       "4      {'description': {'descriptorType': 'descriptio...  \n",
       "...                                                  ...  \n",
       "44441  {'description': {'descriptorType': 'descriptio...  \n",
       "44442  {'description': {'descriptorType': 'descriptio...  \n",
       "44443  {'description': {'descriptorType': 'descriptio...  \n",
       "44444  {'description': {'descriptorType': 'descriptio...  \n",
       "44445  {'description': {'descriptorType': 'descriptio...  \n",
       "\n",
       "[44446 rows x 8 columns]>"
      ]
     },
     "execution_count": 9,
     "metadata": {},
     "output_type": "execute_result"
    }
   ],
   "source": [
    "product_info.info"
   ]
  },
  {
   "cell_type": "code",
   "execution_count": 10,
   "id": "c9ac9e75",
   "metadata": {},
   "outputs": [
    {
     "data": {
      "text/html": [
       "<div>\n",
       "<style scoped>\n",
       "    .dataframe tbody tr th:only-of-type {\n",
       "        vertical-align: middle;\n",
       "    }\n",
       "\n",
       "    .dataframe tbody tr th {\n",
       "        vertical-align: top;\n",
       "    }\n",
       "\n",
       "    .dataframe thead th {\n",
       "        text-align: right;\n",
       "    }\n",
       "</style>\n",
       "<table border=\"1\" class=\"dataframe\">\n",
       "  <thead>\n",
       "    <tr style=\"text-align: right;\">\n",
       "      <th></th>\n",
       "      <th>id</th>\n",
       "      <th>productDisplayName</th>\n",
       "      <th>variantName</th>\n",
       "      <th>ageGroup</th>\n",
       "      <th>gender</th>\n",
       "      <th>baseColour</th>\n",
       "      <th>displayCategories</th>\n",
       "      <th>productDescriptors</th>\n",
       "    </tr>\n",
       "  </thead>\n",
       "  <tbody>\n",
       "    <tr>\n",
       "      <th>0</th>\n",
       "      <td>10000</td>\n",
       "      <td>Palm Tree Girls Sp Jace Sko White Skirts</td>\n",
       "      <td>SP JACE SKO</td>\n",
       "      <td>Kids-Girls</td>\n",
       "      <td>Women</td>\n",
       "      <td>White</td>\n",
       "      <td>Bottomwear,Casual Wear and Clearance,Casual We...</td>\n",
       "      <td>{'description': {'descriptorType': 'descriptio...</td>\n",
       "    </tr>\n",
       "    <tr>\n",
       "      <th>1</th>\n",
       "      <td>10001</td>\n",
       "      <td>Palm Tree Kids Girls Sp Jema Skt Blue Skirts</td>\n",
       "      <td>SP JEMA SKT</td>\n",
       "      <td>Kids-Girls</td>\n",
       "      <td>Women</td>\n",
       "      <td>Blue</td>\n",
       "      <td>Bottomwear,Casual Wear and Clearance,Casual We...</td>\n",
       "      <td>{'description': {'descriptorType': 'descriptio...</td>\n",
       "    </tr>\n",
       "    <tr>\n",
       "      <th>2</th>\n",
       "      <td>10002</td>\n",
       "      <td>Palm Tree Kids Sp Jema Skt Blue Skirts</td>\n",
       "      <td>SP JEMA SKT</td>\n",
       "      <td>Kids-Girls</td>\n",
       "      <td>Women</td>\n",
       "      <td>Blue</td>\n",
       "      <td>Bottomwear,Casual Wear and Clearance,Casual We...</td>\n",
       "      <td>{'description': {'descriptorType': 'descriptio...</td>\n",
       "    </tr>\n",
       "    <tr>\n",
       "      <th>3</th>\n",
       "      <td>10003</td>\n",
       "      <td>Nike Women As Nike Eleme White T-Shirt</td>\n",
       "      <td>AS NIKE ELEME</td>\n",
       "      <td>Adults-Women</td>\n",
       "      <td>Women</td>\n",
       "      <td>White</td>\n",
       "      <td>Tshirts,Sports Wear</td>\n",
       "      <td>{'description': {'descriptorType': 'descriptio...</td>\n",
       "    </tr>\n",
       "    <tr>\n",
       "      <th>4</th>\n",
       "      <td>10004</td>\n",
       "      <td>Nike Men As 7 Sw Temp Grey Shorts</td>\n",
       "      <td>AS 7 SW TEMP</td>\n",
       "      <td>Adults-Men</td>\n",
       "      <td>Men</td>\n",
       "      <td>Grey</td>\n",
       "      <td>Sports Wear</td>\n",
       "      <td>{'description': {'descriptorType': 'descriptio...</td>\n",
       "    </tr>\n",
       "  </tbody>\n",
       "</table>\n",
       "</div>"
      ],
      "text/plain": [
       "      id                            productDisplayName    variantName  \\\n",
       "0  10000      Palm Tree Girls Sp Jace Sko White Skirts    SP JACE SKO   \n",
       "1  10001  Palm Tree Kids Girls Sp Jema Skt Blue Skirts    SP JEMA SKT   \n",
       "2  10002        Palm Tree Kids Sp Jema Skt Blue Skirts    SP JEMA SKT   \n",
       "3  10003        Nike Women As Nike Eleme White T-Shirt  AS NIKE ELEME   \n",
       "4  10004             Nike Men As 7 Sw Temp Grey Shorts   AS 7 SW TEMP   \n",
       "\n",
       "       ageGroup gender baseColour  \\\n",
       "0    Kids-Girls  Women      White   \n",
       "1    Kids-Girls  Women       Blue   \n",
       "2    Kids-Girls  Women       Blue   \n",
       "3  Adults-Women  Women      White   \n",
       "4    Adults-Men    Men       Grey   \n",
       "\n",
       "                                   displayCategories  \\\n",
       "0  Bottomwear,Casual Wear and Clearance,Casual We...   \n",
       "1  Bottomwear,Casual Wear and Clearance,Casual We...   \n",
       "2  Bottomwear,Casual Wear and Clearance,Casual We...   \n",
       "3                                Tshirts,Sports Wear   \n",
       "4                                        Sports Wear   \n",
       "\n",
       "                                  productDescriptors  \n",
       "0  {'description': {'descriptorType': 'descriptio...  \n",
       "1  {'description': {'descriptorType': 'descriptio...  \n",
       "2  {'description': {'descriptorType': 'descriptio...  \n",
       "3  {'description': {'descriptorType': 'descriptio...  \n",
       "4  {'description': {'descriptorType': 'descriptio...  "
      ]
     },
     "execution_count": 10,
     "metadata": {},
     "output_type": "execute_result"
    }
   ],
   "source": [
    "product_info.head()"
   ]
  },
  {
   "cell_type": "code",
   "execution_count": 11,
   "id": "34c10fe5",
   "metadata": {},
   "outputs": [
    {
     "data": {
      "text/plain": [
       "id                       0\n",
       "productDisplayName       7\n",
       "variantName              7\n",
       "ageGroup                 1\n",
       "gender                   0\n",
       "baseColour              15\n",
       "displayCategories     5792\n",
       "productDescriptors       0\n",
       "dtype: int64"
      ]
     },
     "execution_count": 11,
     "metadata": {},
     "output_type": "execute_result"
    }
   ],
   "source": [
    "product_info.isnull().sum()"
   ]
  },
  {
   "cell_type": "code",
   "execution_count": 12,
   "id": "15f55cac",
   "metadata": {},
   "outputs": [],
   "source": [
    "product_info.dropna(inplace=True)"
   ]
  },
  {
   "cell_type": "code",
   "execution_count": 13,
   "id": "8dfc7811",
   "metadata": {},
   "outputs": [
    {
     "data": {
      "text/plain": [
       "0"
      ]
     },
     "execution_count": 13,
     "metadata": {},
     "output_type": "execute_result"
    }
   ],
   "source": [
    "product_info.duplicated().sum()"
   ]
  },
  {
   "cell_type": "code",
   "execution_count": 14,
   "id": "5c216da1",
   "metadata": {},
   "outputs": [
    {
     "data": {
      "text/plain": [
       "'{\\'description\\': {\\'descriptorType\\': \\'description\\', \\'value\\': \\'<p><strong>Wash Care</strong><br /> <span style=\"font-style: normal; font-weight: normal;\">Machine Wash separately in cold water<br /> Use mild detergent<br /> Do not Bleach<br /> Avoid Soaking<br /> Remove promptly<br /> Line Dry inside out in shade<br /> Warm iron only<br /> Do Not Iron Directly on Print/embroidery</span></p>\\'}}'"
      ]
     },
     "execution_count": 14,
     "metadata": {},
     "output_type": "execute_result"
    }
   ],
   "source": [
    "product_info.iloc[1].productDescriptors"
   ]
  },
  {
   "cell_type": "code",
   "execution_count": 15,
   "id": "bd7d913c",
   "metadata": {},
   "outputs": [],
   "source": [
    "import ast\n",
    "typ_chk=ast.literal_eval(product_info.iloc[0].productDescriptors)"
   ]
  },
  {
   "cell_type": "code",
   "execution_count": 16,
   "id": "2d51c974",
   "metadata": {},
   "outputs": [
    {
     "data": {
      "text/plain": [
       "dict"
      ]
     },
     "execution_count": 16,
     "metadata": {},
     "output_type": "execute_result"
    }
   ],
   "source": [
    "type(typ_chk)"
   ]
  },
  {
   "cell_type": "code",
   "execution_count": 17,
   "id": "57995069",
   "metadata": {},
   "outputs": [],
   "source": [
    "typ_chk=typ_chk['description']['value']"
   ]
  },
  {
   "cell_type": "code",
   "execution_count": 18,
   "id": "400f2458",
   "metadata": {},
   "outputs": [
    {
     "data": {
      "text/plain": [
       "'Wash Care Machine Wash separately in cold water Use mild detergent Do not Bleach Avoid Soaking Remove promptly Line Dry inside out in shade Warm iron only Do Not Iron Directly on Print/embroidery'"
      ]
     },
     "execution_count": 18,
     "metadata": {},
     "output_type": "execute_result"
    }
   ],
   "source": [
    "from bs4 import BeautifulSoup\n",
    "clean = BeautifulSoup(typ_chk, \"lxml\").text\n",
    "clean\n"
   ]
  },
  {
   "cell_type": "code",
   "execution_count": 19,
   "id": "23cba36e",
   "metadata": {},
   "outputs": [],
   "source": [
    "def convert(obj):\n",
    "    try:\n",
    "        typeConv=ast.literal_eval(obj)\n",
    "        typeConv=typeConv['description']['value']\n",
    "        cleanText = BeautifulSoup(typeConv, \"lxml\").text\n",
    "    except:\n",
    "        cleanText='a'\n",
    "    return cleanText"
   ]
  },
  {
   "cell_type": "code",
   "execution_count": 20,
   "id": "c99d21ab",
   "metadata": {},
   "outputs": [
    {
     "name": "stdout",
     "output_type": "stream",
     "text": [
      "complete\n"
     ]
    }
   ],
   "source": [
    "product_info['productDescriptors']=product_info['productDescriptors'].apply(convert)\n",
    "print('complete')"
   ]
  },
  {
   "cell_type": "code",
   "execution_count": 21,
   "id": "9b698aa3",
   "metadata": {},
   "outputs": [
    {
     "data": {
      "text/plain": [
       "\"Composition Red round neck t-shirt with short sleeves, made of  100% cotton, has fabric tape detailing on the inseam of the neckline, graphic print on the front and nike swoosh printed on the left sleeve  Fitting Regular  Wash care Machine wash in cold water at 30 degrees with like colours Do not use bleach or softeners Remove immediately Do not allow to lay on itself when wet Tumble dry low Cool iron Do not iron directly on print/trims/ logo Do not dry clean  When you're in the mood to look casual and hip, try this red t-shirt from nike. You just cannot go wrong in this tee, what with its clean silhouette and attractive graphic print. Perfect for all-day wear. Pair it with jeans or shorts and walk around in style.\\n441200-063\""
      ]
     },
     "execution_count": 21,
     "metadata": {},
     "output_type": "execute_result"
    }
   ],
   "source": [
    "product_info.productDescriptors[9]"
   ]
  },
  {
   "cell_type": "code",
   "execution_count": 22,
   "id": "84c20fe4",
   "metadata": {},
   "outputs": [
    {
     "data": {
      "text/plain": [
       "0"
      ]
     },
     "execution_count": 22,
     "metadata": {},
     "output_type": "execute_result"
    }
   ],
   "source": [
    "product_info.duplicated().sum()"
   ]
  },
  {
   "cell_type": "code",
   "execution_count": 23,
   "id": "e228ddc4",
   "metadata": {},
   "outputs": [
    {
     "data": {
      "text/html": [
       "<div>\n",
       "<style scoped>\n",
       "    .dataframe tbody tr th:only-of-type {\n",
       "        vertical-align: middle;\n",
       "    }\n",
       "\n",
       "    .dataframe tbody tr th {\n",
       "        vertical-align: top;\n",
       "    }\n",
       "\n",
       "    .dataframe thead th {\n",
       "        text-align: right;\n",
       "    }\n",
       "</style>\n",
       "<table border=\"1\" class=\"dataframe\">\n",
       "  <thead>\n",
       "    <tr style=\"text-align: right;\">\n",
       "      <th></th>\n",
       "      <th>id</th>\n",
       "      <th>productDisplayName</th>\n",
       "      <th>variantName</th>\n",
       "      <th>ageGroup</th>\n",
       "      <th>gender</th>\n",
       "      <th>baseColour</th>\n",
       "      <th>displayCategories</th>\n",
       "      <th>productDescriptors</th>\n",
       "    </tr>\n",
       "  </thead>\n",
       "  <tbody>\n",
       "    <tr>\n",
       "      <th>0</th>\n",
       "      <td>10000</td>\n",
       "      <td>Palm Tree Girls Sp Jace Sko White Skirts</td>\n",
       "      <td>SP JACE SKO</td>\n",
       "      <td>Kids-Girls</td>\n",
       "      <td>Women</td>\n",
       "      <td>White</td>\n",
       "      <td>Bottomwear,Casual Wear and Clearance,Casual We...</td>\n",
       "      <td>Wash Care Machine Wash separately in cold wate...</td>\n",
       "    </tr>\n",
       "    <tr>\n",
       "      <th>1</th>\n",
       "      <td>10001</td>\n",
       "      <td>Palm Tree Kids Girls Sp Jema Skt Blue Skirts</td>\n",
       "      <td>SP JEMA SKT</td>\n",
       "      <td>Kids-Girls</td>\n",
       "      <td>Women</td>\n",
       "      <td>Blue</td>\n",
       "      <td>Bottomwear,Casual Wear and Clearance,Casual We...</td>\n",
       "      <td>Wash Care Machine Wash separately in cold wate...</td>\n",
       "    </tr>\n",
       "    <tr>\n",
       "      <th>2</th>\n",
       "      <td>10002</td>\n",
       "      <td>Palm Tree Kids Sp Jema Skt Blue Skirts</td>\n",
       "      <td>SP JEMA SKT</td>\n",
       "      <td>Kids-Girls</td>\n",
       "      <td>Women</td>\n",
       "      <td>Blue</td>\n",
       "      <td>Bottomwear,Casual Wear and Clearance,Casual We...</td>\n",
       "      <td>Wash Care Machine Wash separately in cold wate...</td>\n",
       "    </tr>\n",
       "    <tr>\n",
       "      <th>3</th>\n",
       "      <td>10003</td>\n",
       "      <td>Nike Women As Nike Eleme White T-Shirt</td>\n",
       "      <td>AS NIKE ELEME</td>\n",
       "      <td>Adults-Women</td>\n",
       "      <td>Women</td>\n",
       "      <td>White</td>\n",
       "      <td>Tshirts,Sports Wear</td>\n",
       "      <td>Composition White high collared t-shirt made o...</td>\n",
       "    </tr>\n",
       "    <tr>\n",
       "      <th>4</th>\n",
       "      <td>10004</td>\n",
       "      <td>Nike Men As 7 Sw Temp Grey Shorts</td>\n",
       "      <td>AS 7 SW TEMP</td>\n",
       "      <td>Adults-Men</td>\n",
       "      <td>Men</td>\n",
       "      <td>Grey</td>\n",
       "      <td>Sports Wear</td>\n",
       "      <td>CompositionGrey shorts made of 86% polyester a...</td>\n",
       "    </tr>\n",
       "  </tbody>\n",
       "</table>\n",
       "</div>"
      ],
      "text/plain": [
       "      id                            productDisplayName    variantName  \\\n",
       "0  10000      Palm Tree Girls Sp Jace Sko White Skirts    SP JACE SKO   \n",
       "1  10001  Palm Tree Kids Girls Sp Jema Skt Blue Skirts    SP JEMA SKT   \n",
       "2  10002        Palm Tree Kids Sp Jema Skt Blue Skirts    SP JEMA SKT   \n",
       "3  10003        Nike Women As Nike Eleme White T-Shirt  AS NIKE ELEME   \n",
       "4  10004             Nike Men As 7 Sw Temp Grey Shorts   AS 7 SW TEMP   \n",
       "\n",
       "       ageGroup gender baseColour  \\\n",
       "0    Kids-Girls  Women      White   \n",
       "1    Kids-Girls  Women       Blue   \n",
       "2    Kids-Girls  Women       Blue   \n",
       "3  Adults-Women  Women      White   \n",
       "4    Adults-Men    Men       Grey   \n",
       "\n",
       "                                   displayCategories  \\\n",
       "0  Bottomwear,Casual Wear and Clearance,Casual We...   \n",
       "1  Bottomwear,Casual Wear and Clearance,Casual We...   \n",
       "2  Bottomwear,Casual Wear and Clearance,Casual We...   \n",
       "3                                Tshirts,Sports Wear   \n",
       "4                                        Sports Wear   \n",
       "\n",
       "                                  productDescriptors  \n",
       "0  Wash Care Machine Wash separately in cold wate...  \n",
       "1  Wash Care Machine Wash separately in cold wate...  \n",
       "2  Wash Care Machine Wash separately in cold wate...  \n",
       "3  Composition White high collared t-shirt made o...  \n",
       "4  CompositionGrey shorts made of 86% polyester a...  "
      ]
     },
     "execution_count": 23,
     "metadata": {},
     "output_type": "execute_result"
    }
   ],
   "source": [
    "product_info.head()\n"
   ]
  },
  {
   "cell_type": "code",
   "execution_count": 24,
   "id": "fcc7fbd3",
   "metadata": {},
   "outputs": [],
   "source": [
    "product_info['tags']=product_info['productDisplayName']+product_info['variantName']+product_info['ageGroup']+product_info['gender']+product_info['displayCategories']+product_info['baseColour']+product_info['productDescriptors']"
   ]
  },
  {
   "cell_type": "code",
   "execution_count": 25,
   "id": "23fb7095",
   "metadata": {},
   "outputs": [
    {
     "data": {
      "text/html": [
       "<div>\n",
       "<style scoped>\n",
       "    .dataframe tbody tr th:only-of-type {\n",
       "        vertical-align: middle;\n",
       "    }\n",
       "\n",
       "    .dataframe tbody tr th {\n",
       "        vertical-align: top;\n",
       "    }\n",
       "\n",
       "    .dataframe thead th {\n",
       "        text-align: right;\n",
       "    }\n",
       "</style>\n",
       "<table border=\"1\" class=\"dataframe\">\n",
       "  <thead>\n",
       "    <tr style=\"text-align: right;\">\n",
       "      <th></th>\n",
       "      <th>id</th>\n",
       "      <th>productDisplayName</th>\n",
       "      <th>variantName</th>\n",
       "      <th>ageGroup</th>\n",
       "      <th>gender</th>\n",
       "      <th>baseColour</th>\n",
       "      <th>displayCategories</th>\n",
       "      <th>productDescriptors</th>\n",
       "      <th>tags</th>\n",
       "    </tr>\n",
       "  </thead>\n",
       "  <tbody>\n",
       "    <tr>\n",
       "      <th>0</th>\n",
       "      <td>10000</td>\n",
       "      <td>Palm Tree Girls Sp Jace Sko White Skirts</td>\n",
       "      <td>SP JACE SKO</td>\n",
       "      <td>Kids-Girls</td>\n",
       "      <td>Women</td>\n",
       "      <td>White</td>\n",
       "      <td>Bottomwear,Casual Wear and Clearance,Casual We...</td>\n",
       "      <td>Wash Care Machine Wash separately in cold wate...</td>\n",
       "      <td>Palm Tree Girls Sp Jace Sko White SkirtsSP JAC...</td>\n",
       "    </tr>\n",
       "    <tr>\n",
       "      <th>1</th>\n",
       "      <td>10001</td>\n",
       "      <td>Palm Tree Kids Girls Sp Jema Skt Blue Skirts</td>\n",
       "      <td>SP JEMA SKT</td>\n",
       "      <td>Kids-Girls</td>\n",
       "      <td>Women</td>\n",
       "      <td>Blue</td>\n",
       "      <td>Bottomwear,Casual Wear and Clearance,Casual We...</td>\n",
       "      <td>Wash Care Machine Wash separately in cold wate...</td>\n",
       "      <td>Palm Tree Kids Girls Sp Jema Skt Blue SkirtsSP...</td>\n",
       "    </tr>\n",
       "    <tr>\n",
       "      <th>2</th>\n",
       "      <td>10002</td>\n",
       "      <td>Palm Tree Kids Sp Jema Skt Blue Skirts</td>\n",
       "      <td>SP JEMA SKT</td>\n",
       "      <td>Kids-Girls</td>\n",
       "      <td>Women</td>\n",
       "      <td>Blue</td>\n",
       "      <td>Bottomwear,Casual Wear and Clearance,Casual We...</td>\n",
       "      <td>Wash Care Machine Wash separately in cold wate...</td>\n",
       "      <td>Palm Tree Kids Sp Jema Skt Blue SkirtsSP JEMA ...</td>\n",
       "    </tr>\n",
       "    <tr>\n",
       "      <th>3</th>\n",
       "      <td>10003</td>\n",
       "      <td>Nike Women As Nike Eleme White T-Shirt</td>\n",
       "      <td>AS NIKE ELEME</td>\n",
       "      <td>Adults-Women</td>\n",
       "      <td>Women</td>\n",
       "      <td>White</td>\n",
       "      <td>Tshirts,Sports Wear</td>\n",
       "      <td>Composition White high collared t-shirt made o...</td>\n",
       "      <td>Nike Women As Nike Eleme White T-ShirtAS NIKE ...</td>\n",
       "    </tr>\n",
       "    <tr>\n",
       "      <th>4</th>\n",
       "      <td>10004</td>\n",
       "      <td>Nike Men As 7 Sw Temp Grey Shorts</td>\n",
       "      <td>AS 7 SW TEMP</td>\n",
       "      <td>Adults-Men</td>\n",
       "      <td>Men</td>\n",
       "      <td>Grey</td>\n",
       "      <td>Sports Wear</td>\n",
       "      <td>CompositionGrey shorts made of 86% polyester a...</td>\n",
       "      <td>Nike Men As 7 Sw Temp Grey ShortsAS 7 SW TEMPA...</td>\n",
       "    </tr>\n",
       "  </tbody>\n",
       "</table>\n",
       "</div>"
      ],
      "text/plain": [
       "      id                            productDisplayName    variantName  \\\n",
       "0  10000      Palm Tree Girls Sp Jace Sko White Skirts    SP JACE SKO   \n",
       "1  10001  Palm Tree Kids Girls Sp Jema Skt Blue Skirts    SP JEMA SKT   \n",
       "2  10002        Palm Tree Kids Sp Jema Skt Blue Skirts    SP JEMA SKT   \n",
       "3  10003        Nike Women As Nike Eleme White T-Shirt  AS NIKE ELEME   \n",
       "4  10004             Nike Men As 7 Sw Temp Grey Shorts   AS 7 SW TEMP   \n",
       "\n",
       "       ageGroup gender baseColour  \\\n",
       "0    Kids-Girls  Women      White   \n",
       "1    Kids-Girls  Women       Blue   \n",
       "2    Kids-Girls  Women       Blue   \n",
       "3  Adults-Women  Women      White   \n",
       "4    Adults-Men    Men       Grey   \n",
       "\n",
       "                                   displayCategories  \\\n",
       "0  Bottomwear,Casual Wear and Clearance,Casual We...   \n",
       "1  Bottomwear,Casual Wear and Clearance,Casual We...   \n",
       "2  Bottomwear,Casual Wear and Clearance,Casual We...   \n",
       "3                                Tshirts,Sports Wear   \n",
       "4                                        Sports Wear   \n",
       "\n",
       "                                  productDescriptors  \\\n",
       "0  Wash Care Machine Wash separately in cold wate...   \n",
       "1  Wash Care Machine Wash separately in cold wate...   \n",
       "2  Wash Care Machine Wash separately in cold wate...   \n",
       "3  Composition White high collared t-shirt made o...   \n",
       "4  CompositionGrey shorts made of 86% polyester a...   \n",
       "\n",
       "                                                tags  \n",
       "0  Palm Tree Girls Sp Jace Sko White SkirtsSP JAC...  \n",
       "1  Palm Tree Kids Girls Sp Jema Skt Blue SkirtsSP...  \n",
       "2  Palm Tree Kids Sp Jema Skt Blue SkirtsSP JEMA ...  \n",
       "3  Nike Women As Nike Eleme White T-ShirtAS NIKE ...  \n",
       "4  Nike Men As 7 Sw Temp Grey ShortsAS 7 SW TEMPA...  "
      ]
     },
     "execution_count": 25,
     "metadata": {},
     "output_type": "execute_result"
    }
   ],
   "source": [
    "product_info.head()"
   ]
  },
  {
   "cell_type": "code",
   "execution_count": 26,
   "id": "e322062b",
   "metadata": {},
   "outputs": [
    {
     "data": {
      "text/html": [
       "<div>\n",
       "<style scoped>\n",
       "    .dataframe tbody tr th:only-of-type {\n",
       "        vertical-align: middle;\n",
       "    }\n",
       "\n",
       "    .dataframe tbody tr th {\n",
       "        vertical-align: top;\n",
       "    }\n",
       "\n",
       "    .dataframe thead th {\n",
       "        text-align: right;\n",
       "    }\n",
       "</style>\n",
       "<table border=\"1\" class=\"dataframe\">\n",
       "  <thead>\n",
       "    <tr style=\"text-align: right;\">\n",
       "      <th></th>\n",
       "      <th>id</th>\n",
       "      <th>tags</th>\n",
       "    </tr>\n",
       "  </thead>\n",
       "  <tbody>\n",
       "    <tr>\n",
       "      <th>0</th>\n",
       "      <td>10000</td>\n",
       "      <td>Palm Tree Girls Sp Jace Sko White SkirtsSP JAC...</td>\n",
       "    </tr>\n",
       "    <tr>\n",
       "      <th>1</th>\n",
       "      <td>10001</td>\n",
       "      <td>Palm Tree Kids Girls Sp Jema Skt Blue SkirtsSP...</td>\n",
       "    </tr>\n",
       "    <tr>\n",
       "      <th>2</th>\n",
       "      <td>10002</td>\n",
       "      <td>Palm Tree Kids Sp Jema Skt Blue SkirtsSP JEMA ...</td>\n",
       "    </tr>\n",
       "    <tr>\n",
       "      <th>3</th>\n",
       "      <td>10003</td>\n",
       "      <td>Nike Women As Nike Eleme White T-ShirtAS NIKE ...</td>\n",
       "    </tr>\n",
       "    <tr>\n",
       "      <th>4</th>\n",
       "      <td>10004</td>\n",
       "      <td>Nike Men As 7 Sw Temp Grey ShortsAS 7 SW TEMPA...</td>\n",
       "    </tr>\n",
       "  </tbody>\n",
       "</table>\n",
       "</div>"
      ],
      "text/plain": [
       "      id                                               tags\n",
       "0  10000  Palm Tree Girls Sp Jace Sko White SkirtsSP JAC...\n",
       "1  10001  Palm Tree Kids Girls Sp Jema Skt Blue SkirtsSP...\n",
       "2  10002  Palm Tree Kids Sp Jema Skt Blue SkirtsSP JEMA ...\n",
       "3  10003  Nike Women As Nike Eleme White T-ShirtAS NIKE ...\n",
       "4  10004  Nike Men As 7 Sw Temp Grey ShortsAS 7 SW TEMPA..."
      ]
     },
     "execution_count": 26,
     "metadata": {},
     "output_type": "execute_result"
    }
   ],
   "source": [
    "new_df=product_info[['id','tags']]\n",
    "new_df.head()"
   ]
  },
  {
   "cell_type": "code",
   "execution_count": 27,
   "id": "f181084a",
   "metadata": {},
   "outputs": [],
   "source": [
    "import nltk\n",
    "from nltk.stem.porter import PorterStemmer\n",
    "ps=PorterStemmer()\n",
    "\n",
    "def stem(text):\n",
    "    y=[]\n",
    "    for i in text.split():\n",
    "        y.append(ps.stem(i))\n",
    "    return \" \".join(y)"
   ]
  },
  {
   "cell_type": "code",
   "execution_count": 28,
   "id": "45fe91b6",
   "metadata": {},
   "outputs": [
    {
     "name": "stderr",
     "output_type": "stream",
     "text": [
      "C:\\Users\\denni\\AppData\\Local\\Temp\\ipykernel_5920\\3514595201.py:1: SettingWithCopyWarning: \n",
      "A value is trying to be set on a copy of a slice from a DataFrame.\n",
      "Try using .loc[row_indexer,col_indexer] = value instead\n",
      "\n",
      "See the caveats in the documentation: https://pandas.pydata.org/pandas-docs/stable/user_guide/indexing.html#returning-a-view-versus-a-copy\n",
      "  new_df['tags']=new_df['tags'].apply(stem)\n"
     ]
    }
   ],
   "source": [
    "new_df['tags']=new_df['tags'].apply(stem)"
   ]
  },
  {
   "cell_type": "code",
   "execution_count": 29,
   "id": "31568545",
   "metadata": {},
   "outputs": [
    {
     "name": "stdout",
     "output_type": "stream",
     "text": [
      "File Saved\n"
     ]
    }
   ],
   "source": [
    "new_df.to_csv('data_content_based.csv', header=True, index=False)\n",
    "print('File Saved')"
   ]
  },
  {
   "cell_type": "code",
   "execution_count": 30,
   "id": "ac92ee23",
   "metadata": {},
   "outputs": [
    {
     "data": {
      "text/html": [
       "<div>\n",
       "<style scoped>\n",
       "    .dataframe tbody tr th:only-of-type {\n",
       "        vertical-align: middle;\n",
       "    }\n",
       "\n",
       "    .dataframe tbody tr th {\n",
       "        vertical-align: top;\n",
       "    }\n",
       "\n",
       "    .dataframe thead th {\n",
       "        text-align: right;\n",
       "    }\n",
       "</style>\n",
       "<table border=\"1\" class=\"dataframe\">\n",
       "  <thead>\n",
       "    <tr style=\"text-align: right;\">\n",
       "      <th></th>\n",
       "      <th>id</th>\n",
       "      <th>tags</th>\n",
       "    </tr>\n",
       "  </thead>\n",
       "  <tbody>\n",
       "    <tr>\n",
       "      <th>0</th>\n",
       "      <td>10000</td>\n",
       "      <td>palm tree girl sp jace sko white skirtssp jace...</td>\n",
       "    </tr>\n",
       "    <tr>\n",
       "      <th>1</th>\n",
       "      <td>10001</td>\n",
       "      <td>palm tree kid girl sp jema skt blue skirtssp j...</td>\n",
       "    </tr>\n",
       "    <tr>\n",
       "      <th>2</th>\n",
       "      <td>10002</td>\n",
       "      <td>palm tree kid sp jema skt blue skirtssp jema s...</td>\n",
       "    </tr>\n",
       "    <tr>\n",
       "      <th>3</th>\n",
       "      <td>10003</td>\n",
       "      <td>nike women as nike elem white t-shirta nike el...</td>\n",
       "    </tr>\n",
       "    <tr>\n",
       "      <th>4</th>\n",
       "      <td>10004</td>\n",
       "      <td>nike men as 7 sw temp grey shortsa 7 sw tempad...</td>\n",
       "    </tr>\n",
       "  </tbody>\n",
       "</table>\n",
       "</div>"
      ],
      "text/plain": [
       "      id                                               tags\n",
       "0  10000  palm tree girl sp jace sko white skirtssp jace...\n",
       "1  10001  palm tree kid girl sp jema skt blue skirtssp j...\n",
       "2  10002  palm tree kid sp jema skt blue skirtssp jema s...\n",
       "3  10003  nike women as nike elem white t-shirta nike el...\n",
       "4  10004  nike men as 7 sw temp grey shortsa 7 sw tempad..."
      ]
     },
     "execution_count": 30,
     "metadata": {},
     "output_type": "execute_result"
    }
   ],
   "source": [
    "df=pd.read_csv('data_content_based.csv')\n",
    "df.head()"
   ]
  }
 ],
 "metadata": {
  "kernelspec": {
   "display_name": "Python 3 (ipykernel)",
   "language": "python",
   "name": "python3"
  },
  "language_info": {
   "codemirror_mode": {
    "name": "ipython",
    "version": 3
   },
   "file_extension": ".py",
   "mimetype": "text/x-python",
   "name": "python",
   "nbconvert_exporter": "python",
   "pygments_lexer": "ipython3",
   "version": "3.9.12"
  }
 },
 "nbformat": 4,
 "nbformat_minor": 5
}
